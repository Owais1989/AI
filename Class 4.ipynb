{
 "cells": [
  {
   "cell_type": "markdown",
   "metadata": {},
   "source": [
    "# Array & List"
   ]
  },
  {
   "cell_type": "code",
   "execution_count": 1,
   "metadata": {},
   "outputs": [
    {
     "name": "stdout",
     "output_type": "stream",
     "text": [
      "Welcome to Marree\n"
     ]
    }
   ],
   "source": [
    "city_0 = \"Karachi\"\n",
    "city_1 = \"Lahore\"\n",
    "city_2 = \"Quetta\"\n",
    "city_3 = \"Marree\"\n",
    "city_4 = \"Punjab\"\n",
    "\n",
    "print(\"Welcome to \" + city_3)\n"
   ]
  },
  {
   "cell_type": "code",
   "execution_count": 2,
   "metadata": {},
   "outputs": [
    {
     "name": "stdout",
     "output_type": "stream",
     "text": [
      "Welcome to Karachi\n",
      "Lahore\n"
     ]
    }
   ],
   "source": [
    "cities = [\"Karachi\", \"Lahore\", \"Quetta\" , \"Marree\", \"Punjab\"]\n",
    "print('Welcome to', cities[0])\n",
    "print(cities[1])"
   ]
  },
  {
   "cell_type": "code",
   "execution_count": 14,
   "metadata": {},
   "outputs": [
    {
     "data": {
      "text/plain": [
       "2"
      ]
     },
     "execution_count": 14,
     "metadata": {},
     "output_type": "execute_result"
    }
   ],
   "source": [
    "mixed_things = [1, \"Bob\", \"Now is\"]\n",
    "#type(mixed_things)\n",
    "#print(mixed_things[1])\n",
    "#print(type(mixed_things[0]))\n",
    "#0 in mixed_things\n",
    "#1 in mixed_things\n",
    "#\"Bob\" in mixed_things\n",
    "#\"We\" in mixed_things\n",
    "mixed_things.index('Now is')"
   ]
  },
  {
   "cell_type": "code",
   "execution_count": 15,
   "metadata": {},
   "outputs": [
    {
     "name": "stdout",
     "output_type": "stream",
     "text": [
      "[1, 2, 3, 4, 5, 6, 7, 8, 9]\n"
     ]
    }
   ],
   "source": [
    "numbers = list(range(1,10))\n",
    "print(numbers)"
   ]
  },
  {
   "cell_type": "code",
   "execution_count": 22,
   "metadata": {},
   "outputs": [
    {
     "name": "stdout",
     "output_type": "stream",
     "text": [
      "[1, 3, 5, 7, 9]\n"
     ]
    }
   ],
   "source": [
    "#2 is called step\n",
    "#even_numbers = list(range(1,20,2))\n",
    "even_numbers = list(range(1,10,2))\n",
    "#even_numbers = list(range(11,2,-1))\n",
    "print(even_numbers)"
   ]
  },
  {
   "cell_type": "markdown",
   "metadata": {},
   "source": [
    "# List: Adding & Changing Element"
   ]
  },
  {
   "cell_type": "code",
   "execution_count": 29,
   "metadata": {},
   "outputs": [
    {
     "name": "stdout",
     "output_type": "stream",
     "text": [
      "['Karachi', 'Lahore', 'Quetta', 'Marree', 'Punjab', 'Pindi']\n",
      "['Karachi', 'Lahore', 'Multan', 'Quetta', 'Marree', 'Punjab', 'Pindi']\n",
      "['Karachi', 'Lahore', 'Multan', 'Quetta', 'Marree', 'Punjab', 'Pindi', 'abc']\n",
      "['Karachi', 'Lahore', 'Multan', 'Quetta', 'Marree', 'Punjab', 'Pindi', 'abc', 'xyz']\n"
     ]
    },
    {
     "data": {
      "text/plain": [
       "7"
      ]
     },
     "execution_count": 29,
     "metadata": {},
     "output_type": "execute_result"
    }
   ],
   "source": [
    "cities = [\"Karachi\", \"Lahore\", \"Quetta\" , \"Marree\", \"Punjab\"]\n",
    "cities.append(\"Pindi\")\n",
    "print(cities)\n",
    "cities.insert(2,\"Multan\")\n",
    "print(cities)\n",
    "cities.insert(15,\"abc\")\n",
    "print(cities)\n",
    "cities.append(\"xyz\")\n",
    "print(cities)\n",
    "cities.index('abc')"
   ]
  },
  {
   "cell_type": "code",
   "execution_count": 32,
   "metadata": {},
   "outputs": [
    {
     "name": "stdout",
     "output_type": "stream",
     "text": [
      "['Karachi', 'Lahore', 'Quetta', 'Marree', 'pqr']\n"
     ]
    }
   ],
   "source": [
    "#replace function\n",
    "cities = [\"Karachi\", \"Lahore\", \"Quetta\" , \"Marree\", \"Punjab\"]\n",
    "cities[4] = 'pqr'\n",
    "print(cities)"
   ]
  },
  {
   "cell_type": "code",
   "execution_count": 33,
   "metadata": {},
   "outputs": [
    {
     "name": "stdout",
     "output_type": "stream",
     "text": [
      "['Sheep', 'Walk dog', 'Buy Groceriess']\n"
     ]
    }
   ],
   "source": [
    "today_tasks = ['Sheep']\n",
    "today_tasks = today_tasks + [\"Walk dog\", \"Buy Groceriess\"]\n",
    "print(today_tasks)"
   ]
  },
  {
   "cell_type": "code",
   "execution_count": 37,
   "metadata": {},
   "outputs": [
    {
     "name": "stdout",
     "output_type": "stream",
     "text": [
      "[1, 2, 3, 4, 9]\n",
      "[1, 2, 3, 4, 9]\n"
     ]
    }
   ],
   "source": [
    "x = [1,2,3,4]\n",
    "y = x\n",
    "y\n",
    "y.append(9)\n",
    "print(y)\n",
    "print(x)"
   ]
  },
  {
   "cell_type": "code",
   "execution_count": 40,
   "metadata": {},
   "outputs": [
    {
     "name": "stdout",
     "output_type": "stream",
     "text": [
      "[1, 2, 3, 4]\n",
      "[1, 2, 3, 4, 9]\n",
      "[1, 2, 3, 4]\n"
     ]
    }
   ],
   "source": [
    "#Copy list into another varible\n",
    "x = [1,2,3,4]\n",
    "y = x[:]\n",
    "print(y)\n",
    "y.append(9)\n",
    "print(y)\n",
    "print(x)"
   ]
  },
  {
   "cell_type": "markdown",
   "metadata": {},
   "source": [
    "# List: Taking Slices out of them"
   ]
  },
  {
   "cell_type": "code",
   "execution_count": 41,
   "metadata": {},
   "outputs": [
    {
     "data": {
      "text/plain": [
       "['Lahore', 'Quetta']"
      ]
     },
     "execution_count": 41,
     "metadata": {},
     "output_type": "execute_result"
    }
   ],
   "source": [
    "cities = [\"Karachi\", \"Lahore\", \"Quetta\" , \"Marree\", \"Punjab\", \"Pindi\"]\n",
    "new_cities = cities[1:3]\n",
    "new_cities"
   ]
  },
  {
   "cell_type": "code",
   "execution_count": 42,
   "metadata": {},
   "outputs": [
    {
     "data": {
      "text/plain": [
       "['Quetta', 'Marree', 'Punjab']"
      ]
     },
     "execution_count": 42,
     "metadata": {},
     "output_type": "execute_result"
    }
   ],
   "source": [
    "smaller_list_of_cities = cities [2:5]\n",
    "smaller_list_of_cities"
   ]
  },
  {
   "cell_type": "code",
   "execution_count": 55,
   "metadata": {},
   "outputs": [
    {
     "name": "stdout",
     "output_type": "stream",
     "text": [
      "[1, 2, 3, 4, 5, 6, 7, 8, 9, 10, 11, 12, 13, 14, 15, 16, 17, 18, 19]\n"
     ]
    },
    {
     "data": {
      "text/plain": [
       "[]"
      ]
     },
     "execution_count": 55,
     "metadata": {},
     "output_type": "execute_result"
    }
   ],
   "source": [
    "new_list = list(range(1,20))\n",
    "print(new_list)\n",
    "#smaller_list = new_list[-10 : -1]\n",
    "#smaller_list = new_list[-10 : -6]\n",
    "#smaller_list = new_list[5 : 30]\n",
    "smaller_list = new_list[-10 : 6]\n",
    "smaller_list"
   ]
  },
  {
   "cell_type": "code",
   "execution_count": 59,
   "metadata": {},
   "outputs": [
    {
     "name": "stdout",
     "output_type": "stream",
     "text": [
      "['Karachi', 'Lahore', 'Quetta', 'Marree', 'Punjab', 'Pindi']\n"
     ]
    },
    {
     "data": {
      "text/plain": [
       "['Quetta', 'Marree', 'Punjab', 'Pindi']"
      ]
     },
     "execution_count": 59,
     "metadata": {},
     "output_type": "execute_result"
    }
   ],
   "source": [
    "#fetch all list starting form 2 till end\n",
    "print (cities)\n",
    "smaller_list_of_cities = cities [2:]\n",
    "smaller_list_of_cities"
   ]
  },
  {
   "cell_type": "markdown",
   "metadata": {},
   "source": [
    "# List: Delete and Removing Values"
   ]
  },
  {
   "cell_type": "code",
   "execution_count": 64,
   "metadata": {},
   "outputs": [
    {
     "data": {
      "text/plain": [
       "['Meet with Zach']"
      ]
     },
     "execution_count": 64,
     "metadata": {},
     "output_type": "execute_result"
    }
   ],
   "source": [
    "tasks = ['Email Frank', 'Call Sarah', 'Meet with Zach']\n",
    "del tasks[0]\n",
    "tasks.remove(\"Call Sarah\")\n",
    "tasks"
   ]
  },
  {
   "cell_type": "code",
   "execution_count": 63,
   "metadata": {},
   "outputs": [
    {
     "data": {
      "text/plain": [
       "['Email Frank', 'Meet with Zach']"
      ]
     },
     "execution_count": 63,
     "metadata": {},
     "output_type": "execute_result"
    }
   ],
   "source": [
    "tasks1 = ['Email Frank', 'Call Sarah', 'Meet with Zach']\n",
    "tasks1.remove(\"Call Sarah\")\n",
    "tasks1"
   ]
  },
  {
   "cell_type": "code",
   "execution_count": 65,
   "metadata": {},
   "outputs": [
    {
     "ename": "ValueError",
     "evalue": "list.remove(x): x not in list",
     "output_type": "error",
     "traceback": [
      "\u001b[1;31m---------------------------------------------------------------------------\u001b[0m",
      "\u001b[1;31mValueError\u001b[0m                                Traceback (most recent call last)",
      "\u001b[1;32m<ipython-input-65-706194a14365>\u001b[0m in \u001b[0;36m<module>\u001b[1;34m()\u001b[0m\n\u001b[0;32m      1\u001b[0m \u001b[0mtasks2\u001b[0m \u001b[1;33m=\u001b[0m \u001b[1;33m[\u001b[0m\u001b[1;34m'Email Frank'\u001b[0m\u001b[1;33m,\u001b[0m \u001b[1;34m'Call Sarah'\u001b[0m\u001b[1;33m,\u001b[0m \u001b[1;34m'Meet with Zach'\u001b[0m\u001b[1;33m]\u001b[0m\u001b[1;33m\u001b[0m\u001b[0m\n\u001b[1;32m----> 2\u001b[1;33m \u001b[0mtasks2\u001b[0m\u001b[1;33m.\u001b[0m\u001b[0mremove\u001b[0m\u001b[1;33m(\u001b[0m\u001b[1;34m\"Call Farhan\"\u001b[0m\u001b[1;33m)\u001b[0m\u001b[1;33m\u001b[0m\u001b[0m\n\u001b[0m\u001b[0;32m      3\u001b[0m \u001b[0mtasks2\u001b[0m\u001b[1;33m\u001b[0m\u001b[0m\n",
      "\u001b[1;31mValueError\u001b[0m: list.remove(x): x not in list"
     ]
    }
   ],
   "source": [
    "tasks2 = ['Email Frank', 'Call Sarah', 'Meet with Zach']\n",
    "tasks2.remove(\"Call Farhan\")\n",
    "tasks2"
   ]
  },
  {
   "cell_type": "code",
   "execution_count": 78,
   "metadata": {},
   "outputs": [
    {
     "data": {
      "text/plain": [
       "['Hamza', 'Junaid', 'Usama']"
      ]
     },
     "execution_count": 78,
     "metadata": {},
     "output_type": "execute_result"
    }
   ],
   "source": [
    "friends = ['Ali', 'Hamza', 'Junaid', 'Umer', 'Usama', 'Fahad', 'Usman', 'Salman']\n",
    "friends2 = ['Ali', 'Hamza', 'Junaid', 'Umer', 'Usama', 'Fahad', 'Usman', 'Salman']\n",
    "close_friends = ['Usama', 'Junaid', 'Hamza']\n",
    "for x in friends2:\n",
    "    if x in close_friends:\n",
    "        continue\n",
    "    else:\n",
    "        friends.remove(x)\n",
    "friends"
   ]
  },
  {
   "cell_type": "code",
   "execution_count": null,
   "metadata": {},
   "outputs": [],
   "source": []
  },
  {
   "cell_type": "code",
   "execution_count": null,
   "metadata": {},
   "outputs": [],
   "source": []
  }
 ],
 "metadata": {
  "kernelspec": {
   "display_name": "Python 3",
   "language": "python",
   "name": "python3"
  },
  "language_info": {
   "codemirror_mode": {
    "name": "ipython",
    "version": 3
   },
   "file_extension": ".py",
   "mimetype": "text/x-python",
   "name": "python",
   "nbconvert_exporter": "python",
   "pygments_lexer": "ipython3",
   "version": "3.6.5"
  }
 },
 "nbformat": 4,
 "nbformat_minor": 2
}
